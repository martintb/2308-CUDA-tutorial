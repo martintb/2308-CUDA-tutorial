{
 "cells": [
  {
   "cell_type": "markdown",
   "id": "3a38fcac-107c-4db4-9592-9f4e26af9853",
   "metadata": {},
   "source": [
    "# Intro to CUDA (using Python!)"
   ]
  },
  {
   "cell_type": "code",
   "execution_count": 26,
   "id": "983a55f9-4a9d-4516-8897-4d789125f968",
   "metadata": {},
   "outputs": [],
   "source": [
    "import numpy as np\n",
    "import cupy as cp\n",
    "import matplotlib.pyplot as plt"
   ]
  },
  {
   "cell_type": "markdown",
   "id": "bfc3d427-af09-4f32-8b1c-3b6f06bf96d3",
   "metadata": {
    "tags": []
   },
   "source": [
    "# A quick set of polls\n",
    "\n",
    "Go to the link below and fill out the poll"
   ]
  },
  {
   "cell_type": "markdown",
   "id": "8a571f46-b13b-4306-b051-befda4381237",
   "metadata": {},
   "source": [
    "# CuPy Basics"
   ]
  },
  {
   "cell_type": "code",
   "execution_count": 12,
   "id": "273f8e22-2695-441d-9b42-d2f250606e98",
   "metadata": {
    "tags": []
   },
   "outputs": [
    {
     "data": {
      "text/plain": [
       "array([[ 0.,  1.,  2.,  3.,  4.],\n",
       "       [ 5.,  6.,  7.,  8.,  9.],\n",
       "       [10., 11., 12., 13., 14.],\n",
       "       [15., 16., 17., 18., 19.],\n",
       "       [20., 21., 22., 23., 24.]], dtype=float32)"
      ]
     },
     "execution_count": 12,
     "metadata": {},
     "output_type": "execute_result"
    }
   ],
   "source": [
    "x1 = cp.arange(25,dtype=cp.float32).reshape(5,5)\n",
    "x1"
   ]
  },
  {
   "cell_type": "code",
   "execution_count": 13,
   "id": "cf6efb3a-42a9-4cd8-b922-7b122dc78283",
   "metadata": {
    "tags": []
   },
   "outputs": [
    {
     "data": {
      "text/plain": [
       "array([[25., 26., 27., 28., 29.],\n",
       "       [30., 31., 32., 33., 34.],\n",
       "       [35., 36., 37., 38., 39.],\n",
       "       [40., 41., 42., 43., 44.],\n",
       "       [45., 46., 47., 48., 49.]], dtype=float32)"
      ]
     },
     "execution_count": 13,
     "metadata": {},
     "output_type": "execute_result"
    }
   ],
   "source": [
    "x2 = cp.arange(25,50,dtype=cp.float32).reshape(5,5)\n",
    "x2"
   ]
  },
  {
   "cell_type": "code",
   "execution_count": 14,
   "id": "4b4b9d3f-e6b1-4000-b774-d01075c57076",
   "metadata": {
    "tags": []
   },
   "outputs": [
    {
     "data": {
      "text/plain": [
       "array([[25., 27., 29., 31., 33.],\n",
       "       [35., 37., 39., 41., 43.],\n",
       "       [45., 47., 49., 51., 53.],\n",
       "       [55., 57., 59., 61., 63.],\n",
       "       [65., 67., 69., 71., 73.]], dtype=float32)"
      ]
     },
     "execution_count": 14,
     "metadata": {},
     "output_type": "execute_result"
    }
   ],
   "source": [
    "y = x1+x2\n",
    "y"
   ]
  },
  {
   "cell_type": "code",
   "execution_count": null,
   "id": "43f84985-d9f4-4127-a431-360a28123c7d",
   "metadata": {},
   "outputs": [],
   "source": [
    "x3 = cp.arange(10000,dtype=cp.float32).reshape(100,100)\n",
    "y = x3@x3\n",
    "y"
   ]
  },
  {
   "cell_type": "markdown",
   "id": "0702269b-3919-49fd-b239-fd88d6b20aa6",
   "metadata": {},
   "source": [
    "Alternatives to cupy\n",
    "- pycuda\n",
    "- tensorflow\n",
    "- pytorch\n",
    "- numba"
   ]
  },
  {
   "cell_type": "markdown",
   "id": "693ca44e-201a-49b9-863b-185b7ee543cd",
   "metadata": {},
   "source": [
    "# Data Types"
   ]
  },
  {
   "cell_type": "markdown",
   "id": "62759667-8882-4de0-ab7f-b492404f8034",
   "metadata": {},
   "source": [
    "## Static vs Dynamic Typing \n",
    "\n",
    "https://twitter.com/01k/status/1067788059989684224\n",
    "<div>\n",
    "<img src=\"./img/static_vs_dynamic.png\" width=\"500\"/>\n",
    "</div>"
   ]
  },
  {
   "cell_type": "markdown",
   "id": "7631411c-2640-49be-af24-339316a529ee",
   "metadata": {
    "tags": []
   },
   "source": [
    "## Duck Typing\n",
    "https://stackoverflow.com/questions/4205130/what-is-duck-typing\n",
    "\n",
    "<div>\n",
    "<img src=\"./img/duck_typing.png\" width=\"500\"/>\n",
    "</div>"
   ]
  },
  {
   "cell_type": "markdown",
   "id": "2b44a688-65fe-4be6-ac38-398884777f88",
   "metadata": {},
   "source": [
    "pseudo-code example (don't run the next cell!)"
   ]
  },
  {
   "cell_type": "code",
   "execution_count": null,
   "id": "2591037f-41ab-45f3-a9ff-15932b43f659",
   "metadata": {},
   "outputs": [],
   "source": [
    "A = car()\n",
    "A.drive() #works!\n",
    "\n",
    "B = semi_truck()\n",
    "B.drive() #works!\n",
    "\n",
    "C = golf_club()\n",
    "C.drive() #works!\n",
    "\n",
    "D = coffee()\n",
    "D.drive() #fails!!"
   ]
  },
  {
   "cell_type": "markdown",
   "id": "58d44877-a06e-4393-8d6e-781c50dda74f",
   "metadata": {},
   "source": [
    "## Data Type Demonstration in Python"
   ]
  },
  {
   "cell_type": "code",
   "execution_count": 23,
   "id": "9e8d852e-4a1e-4a2a-822a-203b835b46dc",
   "metadata": {
    "tags": []
   },
   "outputs": [
    {
     "name": "stderr",
     "output_type": "stream",
     "text": [
      "Version 1.0.5\n"
     ]
    }
   ],
   "source": [
    "%load_ext nb_mypy"
   ]
  },
  {
   "cell_type": "code",
   "execution_count": 33,
   "id": "9aa54e6b-07f5-40b5-afd1-bf3a89a5f66f",
   "metadata": {
    "tags": []
   },
   "outputs": [],
   "source": [
    "def add_vectors(x1,x2):\n",
    "    assert x1.shape[0]==x2.shape[0]\n",
    "    assert x1.shape[1]==x2.shape[1]\n",
    "    y = np.zeros_like(x1)\n",
    "    for i in range(x1.shape[0]):\n",
    "        for j in range(x1.shape[1]):\n",
    "            y[i,j] = x1[i,j] + x2[i,j]\n",
    "    return y"
   ]
  },
  {
   "cell_type": "code",
   "execution_count": 49,
   "id": "53018eed-ba07-4502-8c83-7a3a1e62247b",
   "metadata": {
    "tags": []
   },
   "outputs": [
    {
     "data": {
      "text/plain": [
       "array([[ 0,  1,  2,  3,  4],\n",
       "       [ 5,  6,  7,  8,  9],\n",
       "       [10, 11, 12, 13, 14],\n",
       "       [15, 16, 17, 18, 19],\n",
       "       [20, 21, 22, 23, 24]])"
      ]
     },
     "execution_count": 49,
     "metadata": {},
     "output_type": "execute_result"
    }
   ],
   "source": [
    "x1 = np.arange(25).reshape(5,5)\n",
    "x1"
   ]
  },
  {
   "cell_type": "code",
   "execution_count": 50,
   "id": "e44aa5bb-125e-4a63-a2d7-5c59a6cfb84a",
   "metadata": {
    "tags": []
   },
   "outputs": [
    {
     "data": {
      "text/plain": [
       "array([[25, 26, 27, 28, 29],\n",
       "       [30, 31, 32, 33, 34],\n",
       "       [35, 36, 37, 38, 39],\n",
       "       [40, 41, 42, 43, 44],\n",
       "       [45, 46, 47, 48, 49]])"
      ]
     },
     "execution_count": 50,
     "metadata": {},
     "output_type": "execute_result"
    }
   ],
   "source": [
    "x2 = np.arange(25,50).reshape(5,5)\n",
    "x2"
   ]
  },
  {
   "cell_type": "code",
   "execution_count": 51,
   "id": "ae362cc3-1964-48dc-b52e-af66833ebe97",
   "metadata": {
    "tags": []
   },
   "outputs": [
    {
     "data": {
      "text/plain": [
       "array([[25, 27, 29, 31, 33],\n",
       "       [35, 37, 39, 41, 43],\n",
       "       [45, 47, 49, 51, 53],\n",
       "       [55, 57, 59, 61, 63],\n",
       "       [65, 67, 69, 71, 73]])"
      ]
     },
     "execution_count": 51,
     "metadata": {},
     "output_type": "execute_result"
    }
   ],
   "source": [
    "add_vectors(x1,x2)"
   ]
  },
  {
   "cell_type": "code",
   "execution_count": 52,
   "id": "530acfb4-9057-4e2d-b044-47264bcad817",
   "metadata": {
    "tags": []
   },
   "outputs": [
    {
     "ename": "AttributeError",
     "evalue": "'list' object has no attribute 'shape'",
     "output_type": "error",
     "traceback": [
      "\u001b[0;31m---------------------------------------------------------------------------\u001b[0m",
      "\u001b[0;31mAttributeError\u001b[0m                            Traceback (most recent call last)",
      "Cell \u001b[0;32mIn[52], line 2\u001b[0m\n\u001b[1;32m      1\u001b[0m x3 \u001b[38;5;241m=\u001b[39m \u001b[38;5;28mlist\u001b[39m(x2)\n\u001b[0;32m----> 2\u001b[0m \u001b[43madd_vectors\u001b[49m\u001b[43m(\u001b[49m\u001b[43mx1\u001b[49m\u001b[43m,\u001b[49m\u001b[43mx3\u001b[49m\u001b[43m)\u001b[49m\n",
      "Cell \u001b[0;32mIn[33], line 2\u001b[0m, in \u001b[0;36madd_vectors\u001b[0;34m(x1, x2)\u001b[0m\n\u001b[1;32m      1\u001b[0m \u001b[38;5;28;01mdef\u001b[39;00m \u001b[38;5;21madd_vectors\u001b[39m(x1,x2):\n\u001b[0;32m----> 2\u001b[0m     \u001b[38;5;28;01massert\u001b[39;00m x1\u001b[38;5;241m.\u001b[39mshape[\u001b[38;5;241m0\u001b[39m]\u001b[38;5;241m==\u001b[39m\u001b[43mx2\u001b[49m\u001b[38;5;241;43m.\u001b[39;49m\u001b[43mshape\u001b[49m[\u001b[38;5;241m0\u001b[39m]\n\u001b[1;32m      3\u001b[0m     y \u001b[38;5;241m=\u001b[39m np\u001b[38;5;241m.\u001b[39mzeros_like(x1)\n\u001b[1;32m      4\u001b[0m     \u001b[38;5;28;01mfor\u001b[39;00m i \u001b[38;5;129;01min\u001b[39;00m \u001b[38;5;28mrange\u001b[39m(x1\u001b[38;5;241m.\u001b[39mshape[\u001b[38;5;241m0\u001b[39m]):\n",
      "\u001b[0;31mAttributeError\u001b[0m: 'list' object has no attribute 'shape'"
     ]
    }
   ],
   "source": [
    "x3 = list(x2)\n",
    "add_vectors(x1,x3)"
   ]
  },
  {
   "cell_type": "code",
   "execution_count": 39,
   "id": "da0a68ca-17bc-4db7-8b00-d2f870448602",
   "metadata": {
    "tags": []
   },
   "outputs": [],
   "source": [
    "def add_vectors_mypy(x1:np.typing.NDArray,x2:np.typing.NDArray)->np.typing.NDArray:\n",
    "    assert x1.shape[0]==x2.shape[0]\n",
    "    assert x1.shape[1]==x2.shape[1]\n",
    "    y = np.zeros_like(x1)\n",
    "    for i in range(x1.shape[0]):\n",
    "        for j in range(x1.shape[1]):\n",
    "            y[i,j] = x1[i,j] + x2[i,j]\n",
    "    return y"
   ]
  },
  {
   "cell_type": "code",
   "execution_count": 53,
   "id": "007d76e5-ef43-4ec4-a319-4ee2bc78eb5f",
   "metadata": {
    "tags": []
   },
   "outputs": [
    {
     "data": {
      "text/plain": [
       "array([[25, 27, 29, 31, 33],\n",
       "       [35, 37, 39, 41, 43],\n",
       "       [45, 47, 49, 51, 53],\n",
       "       [55, 57, 59, 61, 63],\n",
       "       [65, 67, 69, 71, 73]])"
      ]
     },
     "execution_count": 53,
     "metadata": {},
     "output_type": "execute_result"
    }
   ],
   "source": [
    "add_vectors_mypy(x1,x2)"
   ]
  },
  {
   "cell_type": "code",
   "execution_count": 58,
   "id": "aa496c7a-f023-43d9-82ac-dc78dc20f137",
   "metadata": {
    "tags": []
   },
   "outputs": [
    {
     "name": "stderr",
     "output_type": "stream",
     "text": [
      "<cell>1: \u001b[1m\u001b[31merror:\u001b[m Argument 2 to \u001b[m\u001b[1m\"add_vectors_mypy\"\u001b[m has incompatible type \u001b[m\u001b[1m\"List[Any]\"\u001b[m; expected \u001b[m\u001b[1m\"ndarray[Any, dtype[Any]]\"\u001b[m  \u001b[m\u001b[33m[arg-type]\u001b[m\n"
     ]
    },
    {
     "ename": "AttributeError",
     "evalue": "'list' object has no attribute 'shape'",
     "output_type": "error",
     "traceback": [
      "\u001b[0;31m---------------------------------------------------------------------------\u001b[0m",
      "\u001b[0;31mAttributeError\u001b[0m                            Traceback (most recent call last)",
      "Cell \u001b[0;32mIn[58], line 1\u001b[0m\n\u001b[0;32m----> 1\u001b[0m \u001b[43madd_vectors_mypy\u001b[49m\u001b[43m(\u001b[49m\u001b[43mx1\u001b[49m\u001b[43m,\u001b[49m\u001b[43mx3\u001b[49m\u001b[43m)\u001b[49m\n",
      "Cell \u001b[0;32mIn[39], line 2\u001b[0m, in \u001b[0;36madd_vectors_mypy\u001b[0;34m(x1, x2)\u001b[0m\n\u001b[1;32m      1\u001b[0m \u001b[38;5;28;01mdef\u001b[39;00m \u001b[38;5;21madd_vectors_mypy\u001b[39m(x1:np\u001b[38;5;241m.\u001b[39mtyping\u001b[38;5;241m.\u001b[39mNDArray,x2:np\u001b[38;5;241m.\u001b[39mtyping\u001b[38;5;241m.\u001b[39mNDArray)\u001b[38;5;241m-\u001b[39m\u001b[38;5;241m>\u001b[39mnp\u001b[38;5;241m.\u001b[39mtyping\u001b[38;5;241m.\u001b[39mNDArray:\n\u001b[0;32m----> 2\u001b[0m     \u001b[38;5;28;01massert\u001b[39;00m x1\u001b[38;5;241m.\u001b[39mshape[\u001b[38;5;241m0\u001b[39m]\u001b[38;5;241m==\u001b[39m\u001b[43mx2\u001b[49m\u001b[38;5;241;43m.\u001b[39;49m\u001b[43mshape\u001b[49m[\u001b[38;5;241m0\u001b[39m]\n\u001b[1;32m      3\u001b[0m     \u001b[38;5;28;01massert\u001b[39;00m x1\u001b[38;5;241m.\u001b[39mshape[\u001b[38;5;241m1\u001b[39m]\u001b[38;5;241m==\u001b[39mx2\u001b[38;5;241m.\u001b[39mshape[\u001b[38;5;241m1\u001b[39m]\n\u001b[1;32m      4\u001b[0m     y \u001b[38;5;241m=\u001b[39m np\u001b[38;5;241m.\u001b[39mzeros_like(x1)\n",
      "\u001b[0;31mAttributeError\u001b[0m: 'list' object has no attribute 'shape'"
     ]
    }
   ],
   "source": [
    "add_vectors_mypy(x1,x3)"
   ]
  },
  {
   "cell_type": "code",
   "execution_count": 60,
   "id": "071db940-7bfa-4cfd-9ee6-b2908d0a39d4",
   "metadata": {
    "tags": []
   },
   "outputs": [],
   "source": [
    "%nb_mypy Off"
   ]
  },
  {
   "cell_type": "markdown",
   "id": "e6d899a9-9c0a-456a-b60f-8bf86583a405",
   "metadata": {},
   "source": [
    "# CUDA Basics: Grids, Blocks, and Threads"
   ]
  },
  {
   "cell_type": "code",
   "execution_count": null,
   "id": "01c7584d-436f-4131-8ca0-3ac0926f66c3",
   "metadata": {},
   "outputs": [],
   "source": []
  },
  {
   "cell_type": "markdown",
   "id": "173ba4c5-32a5-41db-9c9c-85006b4f877b",
   "metadata": {
    "tags": []
   },
   "source": [
    "# Writing CUDA Kernels"
   ]
  },
  {
   "cell_type": "code",
   "execution_count": 82,
   "id": "f2bf1130-27b7-4841-ad99-cbcf0116cd88",
   "metadata": {
    "tags": []
   },
   "outputs": [],
   "source": [
    "add_kernel = cp.RawKernel(r'''\n",
    "extern \"C\" __global__\n",
    "void cuda_add(const float* x1, const float* x2, float* y) {\n",
    "    int tid = blockDim.x * blockIdx.x + threadIdx.x;\n",
    "    y[tid] = x1[tid] + x2[tid];\n",
    "}\n",
    "''', 'cuda_add')"
   ]
  },
  {
   "cell_type": "code",
   "execution_count": 69,
   "id": "7429f6f4-1f80-4bc0-bbdf-4d401e5e4201",
   "metadata": {
    "tags": []
   },
   "outputs": [],
   "source": [
    "x1 = cp.arange(25,dtype=cp.float32).reshape(5,5)\n",
    "x2 = cp.arange(25,50,dtype=cp.float32).reshape(5,5)\n",
    "y = cp.zeros((5,5),dtype=cp.float32)"
   ]
  },
  {
   "cell_type": "code",
   "execution_count": 76,
   "id": "8af29be5-f5a9-4c3c-8994-df9fe4c0bbdd",
   "metadata": {
    "tags": []
   },
   "outputs": [],
   "source": [
    "x1 = cp.arange(10000,dtype=cp.float32).reshape(100,100)\n",
    "x2 = cp.arange(10000,dtype=cp.float32).reshape(100,100)\n",
    "y = cp.zeros((100,100),dtype=cp.float32)"
   ]
  },
  {
   "cell_type": "code",
   "execution_count": 77,
   "id": "d2157454-8a74-4d52-9cf2-9ce970175dc8",
   "metadata": {
    "tags": []
   },
   "outputs": [
    {
     "name": "stdout",
     "output_type": "stream",
     "text": [
      "3.28 µs ± 34 ns per loop (mean ± std. dev. of 7 runs, 100,000 loops each)\n"
     ]
    }
   ],
   "source": [
    "%%timeit\n",
    "add_kernel(\n",
    "    (5,), # grid shape (number of blocks in each dimension)\n",
    "    (5,), # block shape (number of threads in each dimension)\n",
    "    (x1,x2,y)\n",
    ")\n",
    "y"
   ]
  },
  {
   "cell_type": "code",
   "execution_count": 78,
   "id": "456cf940-98be-44b9-ba3b-1d46411440bd",
   "metadata": {
    "tags": []
   },
   "outputs": [
    {
     "name": "stdout",
     "output_type": "stream",
     "text": [
      "3.29 µs ± 23.7 ns per loop (mean ± std. dev. of 7 runs, 100,000 loops each)\n"
     ]
    }
   ],
   "source": [
    "%%timeit\n",
    "add_kernel(\n",
    "    (25,), # grid shape (number of blocks in each dimension)\n",
    "    (1,), # block shape (number of threads in each dimension)\n",
    "    (x1,x2,y)\n",
    ")\n",
    "y"
   ]
  },
  {
   "cell_type": "code",
   "execution_count": 85,
   "id": "d10e947e-ab95-4118-915f-82059a0110dc",
   "metadata": {
    "tags": []
   },
   "outputs": [],
   "source": [
    "add_kernel_2D = cp.RawKernel(r'''\n",
    "extern \"C\" __global__\n",
    "void cuda_add(const float* x1, const float* x2, float* y) {\n",
    "    int i = blockDim.y * blockIdx.y + threadIdx.y;\n",
    "    int j = blockDim.x * blockIdx.x + threadIdx.x;\n",
    "    \n",
    "    y[i][j] = x1[i][j] + x2[i][j];\n",
    "    \n",
    "}\n",
    "''', 'cuda_add_2D')"
   ]
  },
  {
   "cell_type": "code",
   "execution_count": 87,
   "id": "607a2ba2-1b41-4aaa-97b3-79b7d1f6f4ef",
   "metadata": {
    "tags": []
   },
   "outputs": [
    {
     "ename": "CompileException",
     "evalue": "/tmp/tmp7uq2zm4p/d5b44167ce8793bd8c98eac3c07e6949ebb3a58b.cubin.cu(7): error: expression must have pointer-to-object type but it has type \"float\"\n\n/tmp/tmp7uq2zm4p/d5b44167ce8793bd8c98eac3c07e6949ebb3a58b.cubin.cu(7): error: expression must have pointer-to-object type but it has type \"float\"\n\n/tmp/tmp7uq2zm4p/d5b44167ce8793bd8c98eac3c07e6949ebb3a58b.cubin.cu(7): error: expression must have pointer-to-object type but it has type \"float\"\n\n3 errors detected in the compilation of \"/tmp/tmp7uq2zm4p/d5b44167ce8793bd8c98eac3c07e6949ebb3a58b.cubin.cu\".\n",
     "output_type": "error",
     "traceback": [
      "\u001b[0;31m---------------------------------------------------------------------------\u001b[0m",
      "\u001b[0;31mNVRTCError\u001b[0m                                Traceback (most recent call last)",
      "File \u001b[0;32m~/software/miniforge3/envs/2308_codecamp_tbm/lib/python3.8/site-packages/cupy/cuda/compiler.py:689\u001b[0m, in \u001b[0;36m_NVRTCProgram.compile\u001b[0;34m(self, options, log_stream)\u001b[0m\n\u001b[1;32m    688\u001b[0m         nvrtc\u001b[38;5;241m.\u001b[39maddNameExpression(\u001b[38;5;28mself\u001b[39m\u001b[38;5;241m.\u001b[39mptr, ker)\n\u001b[0;32m--> 689\u001b[0m \u001b[43mnvrtc\u001b[49m\u001b[38;5;241;43m.\u001b[39;49m\u001b[43mcompileProgram\u001b[49m\u001b[43m(\u001b[49m\u001b[38;5;28;43mself\u001b[39;49m\u001b[38;5;241;43m.\u001b[39;49m\u001b[43mptr\u001b[49m\u001b[43m,\u001b[49m\u001b[43m \u001b[49m\u001b[43moptions\u001b[49m\u001b[43m)\u001b[49m\n\u001b[1;32m    690\u001b[0m mapping \u001b[38;5;241m=\u001b[39m \u001b[38;5;28;01mNone\u001b[39;00m\n",
      "File \u001b[0;32mcupy_backends/cuda/libs/nvrtc.pyx:159\u001b[0m, in \u001b[0;36mcupy_backends.cuda.libs.nvrtc.compileProgram\u001b[0;34m()\u001b[0m\n",
      "File \u001b[0;32mcupy_backends/cuda/libs/nvrtc.pyx:171\u001b[0m, in \u001b[0;36mcupy_backends.cuda.libs.nvrtc.compileProgram\u001b[0;34m()\u001b[0m\n",
      "File \u001b[0;32mcupy_backends/cuda/libs/nvrtc.pyx:89\u001b[0m, in \u001b[0;36mcupy_backends.cuda.libs.nvrtc.check_status\u001b[0;34m()\u001b[0m\n",
      "\u001b[0;31mNVRTCError\u001b[0m: NVRTC_ERROR_COMPILATION (6)",
      "\nDuring handling of the above exception, another exception occurred:\n",
      "\u001b[0;31mCompileException\u001b[0m                          Traceback (most recent call last)",
      "Cell \u001b[0;32mIn[87], line 1\u001b[0m\n\u001b[0;32m----> 1\u001b[0m \u001b[43madd_kernel_2D\u001b[49m\u001b[43m(\u001b[49m\n\u001b[1;32m      2\u001b[0m \u001b[43m    \u001b[49m\u001b[43m(\u001b[49m\u001b[38;5;241;43m1\u001b[39;49m\u001b[43m,\u001b[49m\u001b[43m)\u001b[49m\u001b[43m,\u001b[49m\u001b[43m \u001b[49m\u001b[38;5;66;43;03m# grid shape (number of blocks in each dimension)\u001b[39;49;00m\n\u001b[1;32m      3\u001b[0m \u001b[43m    \u001b[49m\u001b[43m(\u001b[49m\u001b[38;5;241;43m5\u001b[39;49m\u001b[43m,\u001b[49m\u001b[38;5;241;43m5\u001b[39;49m\u001b[43m)\u001b[49m\u001b[43m,\u001b[49m\u001b[43m \u001b[49m\u001b[38;5;66;43;03m# block shape (number of threads in each dimension)\u001b[39;49;00m\n\u001b[1;32m      4\u001b[0m \u001b[43m    \u001b[49m\u001b[43m(\u001b[49m\u001b[43mx1\u001b[49m\u001b[43m,\u001b[49m\u001b[43mx2\u001b[49m\u001b[43m,\u001b[49m\u001b[43my\u001b[49m\u001b[43m)\u001b[49m\n\u001b[1;32m      5\u001b[0m \u001b[43m)\u001b[49m\n\u001b[1;32m      6\u001b[0m y\n",
      "File \u001b[0;32mcupy/_core/raw.pyx:89\u001b[0m, in \u001b[0;36mcupy._core.raw.RawKernel.__call__\u001b[0;34m()\u001b[0m\n",
      "File \u001b[0;32mcupy/_core/raw.pyx:96\u001b[0m, in \u001b[0;36mcupy._core.raw.RawKernel.kernel.__get__\u001b[0;34m()\u001b[0m\n",
      "File \u001b[0;32mcupy/_core/raw.pyx:113\u001b[0m, in \u001b[0;36mcupy._core.raw.RawKernel._kernel\u001b[0;34m()\u001b[0m\n",
      "File \u001b[0;32mcupy/_util.pyx:67\u001b[0m, in \u001b[0;36mcupy._util.memoize.decorator.ret\u001b[0;34m()\u001b[0m\n",
      "File \u001b[0;32mcupy/_core/raw.pyx:536\u001b[0m, in \u001b[0;36mcupy._core.raw._get_raw_module\u001b[0;34m()\u001b[0m\n",
      "File \u001b[0;32mcupy/_core/core.pyx:2193\u001b[0m, in \u001b[0;36mcupy._core.core.compile_with_cache\u001b[0;34m()\u001b[0m\n",
      "File \u001b[0;32mcupy/_core/core.pyx:2256\u001b[0m, in \u001b[0;36mcupy._core.core.compile_with_cache\u001b[0;34m()\u001b[0m\n",
      "File \u001b[0;32m~/software/miniforge3/envs/2308_codecamp_tbm/lib/python3.8/site-packages/cupy/cuda/compiler.py:496\u001b[0m, in \u001b[0;36m_compile_module_with_cache\u001b[0;34m(source, options, arch, cache_dir, extra_source, backend, enable_cooperative_groups, name_expressions, log_stream, jitify)\u001b[0m\n\u001b[1;32m    492\u001b[0m     \u001b[38;5;28;01mreturn\u001b[39;00m _compile_with_cache_hip(\n\u001b[1;32m    493\u001b[0m         source, options, arch, cache_dir, extra_source, backend,\n\u001b[1;32m    494\u001b[0m         name_expressions, log_stream, cache_in_memory)\n\u001b[1;32m    495\u001b[0m \u001b[38;5;28;01melse\u001b[39;00m:\n\u001b[0;32m--> 496\u001b[0m     \u001b[38;5;28;01mreturn\u001b[39;00m \u001b[43m_compile_with_cache_cuda\u001b[49m\u001b[43m(\u001b[49m\n\u001b[1;32m    497\u001b[0m \u001b[43m        \u001b[49m\u001b[43msource\u001b[49m\u001b[43m,\u001b[49m\u001b[43m \u001b[49m\u001b[43moptions\u001b[49m\u001b[43m,\u001b[49m\u001b[43m \u001b[49m\u001b[43march\u001b[49m\u001b[43m,\u001b[49m\u001b[43m \u001b[49m\u001b[43mcache_dir\u001b[49m\u001b[43m,\u001b[49m\u001b[43m \u001b[49m\u001b[43mextra_source\u001b[49m\u001b[43m,\u001b[49m\u001b[43m \u001b[49m\u001b[43mbackend\u001b[49m\u001b[43m,\u001b[49m\n\u001b[1;32m    498\u001b[0m \u001b[43m        \u001b[49m\u001b[43menable_cooperative_groups\u001b[49m\u001b[43m,\u001b[49m\u001b[43m \u001b[49m\u001b[43mname_expressions\u001b[49m\u001b[43m,\u001b[49m\u001b[43m \u001b[49m\u001b[43mlog_stream\u001b[49m\u001b[43m,\u001b[49m\n\u001b[1;32m    499\u001b[0m \u001b[43m        \u001b[49m\u001b[43mcache_in_memory\u001b[49m\u001b[43m,\u001b[49m\u001b[43m \u001b[49m\u001b[43mjitify\u001b[49m\u001b[43m)\u001b[49m\n",
      "File \u001b[0;32m~/software/miniforge3/envs/2308_codecamp_tbm/lib/python3.8/site-packages/cupy/cuda/compiler.py:574\u001b[0m, in \u001b[0;36m_compile_with_cache_cuda\u001b[0;34m(source, options, arch, cache_dir, extra_source, backend, enable_cooperative_groups, name_expressions, log_stream, cache_in_memory, jitify)\u001b[0m\n\u001b[1;32m    572\u001b[0m \u001b[38;5;28;01mif\u001b[39;00m backend \u001b[38;5;241m==\u001b[39m \u001b[38;5;124m'\u001b[39m\u001b[38;5;124mnvrtc\u001b[39m\u001b[38;5;124m'\u001b[39m:\n\u001b[1;32m    573\u001b[0m     cu_name \u001b[38;5;241m=\u001b[39m \u001b[38;5;124m'\u001b[39m\u001b[38;5;124m'\u001b[39m \u001b[38;5;28;01mif\u001b[39;00m cache_in_memory \u001b[38;5;28;01melse\u001b[39;00m name \u001b[38;5;241m+\u001b[39m \u001b[38;5;124m'\u001b[39m\u001b[38;5;124m.cu\u001b[39m\u001b[38;5;124m'\u001b[39m\n\u001b[0;32m--> 574\u001b[0m     ptx, mapping \u001b[38;5;241m=\u001b[39m \u001b[43mcompile_using_nvrtc\u001b[49m\u001b[43m(\u001b[49m\n\u001b[1;32m    575\u001b[0m \u001b[43m        \u001b[49m\u001b[43msource\u001b[49m\u001b[43m,\u001b[49m\u001b[43m \u001b[49m\u001b[43moptions\u001b[49m\u001b[43m,\u001b[49m\u001b[43m \u001b[49m\u001b[43march\u001b[49m\u001b[43m,\u001b[49m\u001b[43m \u001b[49m\u001b[43mcu_name\u001b[49m\u001b[43m,\u001b[49m\u001b[43m \u001b[49m\u001b[43mname_expressions\u001b[49m\u001b[43m,\u001b[49m\n\u001b[1;32m    576\u001b[0m \u001b[43m        \u001b[49m\u001b[43mlog_stream\u001b[49m\u001b[43m,\u001b[49m\u001b[43m \u001b[49m\u001b[43mcache_in_memory\u001b[49m\u001b[43m,\u001b[49m\u001b[43m \u001b[49m\u001b[43mjitify\u001b[49m\u001b[43m)\u001b[49m\n\u001b[1;32m    577\u001b[0m     \u001b[38;5;28;01mif\u001b[39;00m _is_cudadevrt_needed(options):\n\u001b[1;32m    578\u001b[0m         \u001b[38;5;66;03m# for separate compilation\u001b[39;00m\n\u001b[1;32m    579\u001b[0m         ls \u001b[38;5;241m=\u001b[39m function\u001b[38;5;241m.\u001b[39mLinkState()\n",
      "File \u001b[0;32m~/software/miniforge3/envs/2308_codecamp_tbm/lib/python3.8/site-packages/cupy/cuda/compiler.py:322\u001b[0m, in \u001b[0;36mcompile_using_nvrtc\u001b[0;34m(source, options, arch, filename, name_expressions, log_stream, cache_in_memory, jitify)\u001b[0m\n\u001b[1;32m    319\u001b[0m         \u001b[38;5;28;01mwith\u001b[39;00m \u001b[38;5;28mopen\u001b[39m(cu_path, \u001b[38;5;124m'\u001b[39m\u001b[38;5;124mw\u001b[39m\u001b[38;5;124m'\u001b[39m) \u001b[38;5;28;01mas\u001b[39;00m cu_file:\n\u001b[1;32m    320\u001b[0m             cu_file\u001b[38;5;241m.\u001b[39mwrite(source)\n\u001b[0;32m--> 322\u001b[0m         \u001b[38;5;28;01mreturn\u001b[39;00m \u001b[43m_compile\u001b[49m\u001b[43m(\u001b[49m\u001b[43msource\u001b[49m\u001b[43m,\u001b[49m\u001b[43m \u001b[49m\u001b[43moptions\u001b[49m\u001b[43m,\u001b[49m\u001b[43m \u001b[49m\u001b[43mcu_path\u001b[49m\u001b[43m,\u001b[49m\n\u001b[1;32m    323\u001b[0m \u001b[43m                        \u001b[49m\u001b[43mname_expressions\u001b[49m\u001b[43m,\u001b[49m\u001b[43m \u001b[49m\u001b[43mlog_stream\u001b[49m\u001b[43m,\u001b[49m\u001b[43m \u001b[49m\u001b[43mjitify\u001b[49m\u001b[43m)\u001b[49m\n\u001b[1;32m    324\u001b[0m \u001b[38;5;28;01melse\u001b[39;00m:\n\u001b[1;32m    325\u001b[0m     cu_path \u001b[38;5;241m=\u001b[39m \u001b[38;5;124m'\u001b[39m\u001b[38;5;124m'\u001b[39m \u001b[38;5;28;01mif\u001b[39;00m \u001b[38;5;129;01mnot\u001b[39;00m jitify \u001b[38;5;28;01melse\u001b[39;00m filename\n",
      "File \u001b[0;32m~/software/miniforge3/envs/2308_codecamp_tbm/lib/python3.8/site-packages/cupy/cuda/compiler.py:306\u001b[0m, in \u001b[0;36mcompile_using_nvrtc.<locals>._compile\u001b[0;34m(source, options, cu_path, name_expressions, log_stream, jitify)\u001b[0m\n\u001b[1;32m    303\u001b[0m prog \u001b[38;5;241m=\u001b[39m _NVRTCProgram(source, cu_path, headers, include_names,\n\u001b[1;32m    304\u001b[0m                      name_expressions\u001b[38;5;241m=\u001b[39mname_expressions, method\u001b[38;5;241m=\u001b[39mmethod)\n\u001b[1;32m    305\u001b[0m \u001b[38;5;28;01mtry\u001b[39;00m:\n\u001b[0;32m--> 306\u001b[0m     compiled_obj, mapping \u001b[38;5;241m=\u001b[39m \u001b[43mprog\u001b[49m\u001b[38;5;241;43m.\u001b[39;49m\u001b[43mcompile\u001b[49m\u001b[43m(\u001b[49m\u001b[43moptions\u001b[49m\u001b[43m,\u001b[49m\u001b[43m \u001b[49m\u001b[43mlog_stream\u001b[49m\u001b[43m)\u001b[49m\n\u001b[1;32m    307\u001b[0m \u001b[38;5;28;01mexcept\u001b[39;00m CompileException \u001b[38;5;28;01mas\u001b[39;00m e:\n\u001b[1;32m    308\u001b[0m     dump \u001b[38;5;241m=\u001b[39m _get_bool_env_variable(\n\u001b[1;32m    309\u001b[0m         \u001b[38;5;124m'\u001b[39m\u001b[38;5;124mCUPY_DUMP_CUDA_SOURCE_ON_ERROR\u001b[39m\u001b[38;5;124m'\u001b[39m, \u001b[38;5;28;01mFalse\u001b[39;00m)\n",
      "File \u001b[0;32m~/software/miniforge3/envs/2308_codecamp_tbm/lib/python3.8/site-packages/cupy/cuda/compiler.py:708\u001b[0m, in \u001b[0;36m_NVRTCProgram.compile\u001b[0;34m(self, options, log_stream)\u001b[0m\n\u001b[1;32m    706\u001b[0m \u001b[38;5;28;01mexcept\u001b[39;00m nvrtc\u001b[38;5;241m.\u001b[39mNVRTCError:\n\u001b[1;32m    707\u001b[0m     log \u001b[38;5;241m=\u001b[39m nvrtc\u001b[38;5;241m.\u001b[39mgetProgramLog(\u001b[38;5;28mself\u001b[39m\u001b[38;5;241m.\u001b[39mptr)\n\u001b[0;32m--> 708\u001b[0m     \u001b[38;5;28;01mraise\u001b[39;00m CompileException(log, \u001b[38;5;28mself\u001b[39m\u001b[38;5;241m.\u001b[39msrc, \u001b[38;5;28mself\u001b[39m\u001b[38;5;241m.\u001b[39mname, options,\n\u001b[1;32m    709\u001b[0m                            \u001b[38;5;124m'\u001b[39m\u001b[38;5;124mnvrtc\u001b[39m\u001b[38;5;124m'\u001b[39m \u001b[38;5;28;01mif\u001b[39;00m \u001b[38;5;129;01mnot\u001b[39;00m runtime\u001b[38;5;241m.\u001b[39mis_hip \u001b[38;5;28;01melse\u001b[39;00m \u001b[38;5;124m'\u001b[39m\u001b[38;5;124mhiprtc\u001b[39m\u001b[38;5;124m'\u001b[39m)\n",
      "\u001b[0;31mCompileException\u001b[0m: /tmp/tmp7uq2zm4p/d5b44167ce8793bd8c98eac3c07e6949ebb3a58b.cubin.cu(7): error: expression must have pointer-to-object type but it has type \"float\"\n\n/tmp/tmp7uq2zm4p/d5b44167ce8793bd8c98eac3c07e6949ebb3a58b.cubin.cu(7): error: expression must have pointer-to-object type but it has type \"float\"\n\n/tmp/tmp7uq2zm4p/d5b44167ce8793bd8c98eac3c07e6949ebb3a58b.cubin.cu(7): error: expression must have pointer-to-object type but it has type \"float\"\n\n3 errors detected in the compilation of \"/tmp/tmp7uq2zm4p/d5b44167ce8793bd8c98eac3c07e6949ebb3a58b.cubin.cu\".\n"
     ]
    }
   ],
   "source": [
    "add_kernel_2D(\n",
    "    (1,), # grid shape (number of blocks in each dimension)\n",
    "    (5,5), # block shape (number of threads in each dimension)\n",
    "    (x1,x2,y)\n",
    ")\n",
    "y"
   ]
  },
  {
   "cell_type": "markdown",
   "id": "faf764ac-d179-4713-98d7-c320e35bac4b",
   "metadata": {
    "tags": []
   },
   "source": [
    "# Exercise: Matrix Multiplication"
   ]
  },
  {
   "cell_type": "code",
   "execution_count": null,
   "id": "bc5cf115-411b-4238-9967-d7b690860bb5",
   "metadata": {},
   "outputs": [],
   "source": [
    "add_kernel = cp.RawKernel(r'''\n",
    "extern \"C\" __global__\n",
    "void cuda_add(const float* x1, const float* x2, float* y) {\n",
    "    int row = blockDim.y * blockIdx.y + threadIdx.x;\n",
    "    y[tid] = x1[tid] + x2[tid];\n",
    "}\n",
    "''', 'cuda_add')"
   ]
  }
 ],
 "metadata": {
  "kernelspec": {
   "display_name": "2308_codecamp_tbm",
   "language": "python",
   "name": "2308_codecamp_tbm"
  },
  "language_info": {
   "codemirror_mode": {
    "name": "ipython",
    "version": 3
   },
   "file_extension": ".py",
   "mimetype": "text/x-python",
   "name": "python",
   "nbconvert_exporter": "python",
   "pygments_lexer": "ipython3",
   "version": "3.8.17"
  }
 },
 "nbformat": 4,
 "nbformat_minor": 5
}
