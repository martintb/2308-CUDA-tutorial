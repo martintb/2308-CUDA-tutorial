{
 "cells": [
  {
   "cell_type": "markdown",
   "id": "3a38fcac-107c-4db4-9592-9f4e26af9853",
   "metadata": {},
   "source": [
    "# Intro to CUDA (using Python!)"
   ]
  },
  {
   "cell_type": "code",
   "execution_count": 31,
   "id": "983a55f9-4a9d-4516-8897-4d789125f968",
   "metadata": {},
   "outputs": [],
   "source": [
    "import numpy as np\n",
    "import cupy as cp"
   ]
  },
  {
   "cell_type": "markdown",
   "id": "bfc3d427-af09-4f32-8b1c-3b6f06bf96d3",
   "metadata": {
    "tags": []
   },
   "source": [
    "# A quick set of polls\n",
    "\n",
    "Go to the link below and fill out the poll\n"
   ]
  },
  {
   "cell_type": "markdown",
   "id": "693ca44e-201a-49b9-863b-185b7ee543cd",
   "metadata": {
    "tags": []
   },
   "source": [
    "# Data Types"
   ]
  },
  {
   "cell_type": "markdown",
   "id": "62759667-8882-4de0-ab7f-b492404f8034",
   "metadata": {
    "tags": []
   },
   "source": [
    "## Static vs Dynamic Typing "
   ]
  },
  {
   "cell_type": "markdown",
   "id": "f31fe19d-5676-4179-9f6d-06c68e5b5b06",
   "metadata": {},
   "source": [
    "https://twitter.com/01k/status/1067788059989684224\n",
    "<div>\n",
    "<img src=\"./img/static_vs_dynamic.png\" width=\"400\"/>\n",
    "</div>"
   ]
  },
  {
   "cell_type": "markdown",
   "id": "7631411c-2640-49be-af24-339316a529ee",
   "metadata": {
    "tags": []
   },
   "source": [
    "## Duck Typing"
   ]
  },
  {
   "cell_type": "markdown",
   "id": "46d8f273-5c92-404a-ba68-96184542f812",
   "metadata": {},
   "source": [
    "https://stackoverflow.com/questions/4205130/what-is-duck-typing\n",
    "\n",
    "<div>\n",
    "<img src=\"./img/duck_typing.png\" width=\"400\"/>\n",
    "</div>"
   ]
  },
  {
   "cell_type": "markdown",
   "id": "2b44a688-65fe-4be6-ac38-398884777f88",
   "metadata": {},
   "source": [
    "pseudo-code example (don't run the next cell!)"
   ]
  },
  {
   "cell_type": "code",
   "execution_count": null,
   "id": "2591037f-41ab-45f3-a9ff-15932b43f659",
   "metadata": {},
   "outputs": [],
   "source": [
    "A = car()\n",
    "A.drive() #works!\n",
    "\n",
    "B = semi_truck()\n",
    "B.drive() #works!\n",
    "\n",
    "C = golf_club()\n",
    "C.drive() #works!\n",
    "\n",
    "D = coffee()\n",
    "D.drive() #fails!!"
   ]
  },
  {
   "cell_type": "markdown",
   "id": "58d44877-a06e-4393-8d6e-781c50dda74f",
   "metadata": {
    "tags": []
   },
   "source": [
    "## Data Type Demonstration in Python"
   ]
  },
  {
   "cell_type": "code",
   "execution_count": 23,
   "id": "9e8d852e-4a1e-4a2a-822a-203b835b46dc",
   "metadata": {
    "tags": []
   },
   "outputs": [
    {
     "name": "stderr",
     "output_type": "stream",
     "text": [
      "Version 1.0.5\n"
     ]
    }
   ],
   "source": [
    "%load_ext nb_mypy"
   ]
  },
  {
   "cell_type": "code",
   "execution_count": 91,
   "id": "aa120cd7-9c14-44f7-bbc5-c7bdde831151",
   "metadata": {
    "tags": []
   },
   "outputs": [],
   "source": [
    "%nb_mypy On"
   ]
  },
  {
   "cell_type": "code",
   "execution_count": 92,
   "id": "9aa54e6b-07f5-40b5-afd1-bf3a89a5f66f",
   "metadata": {
    "tags": []
   },
   "outputs": [],
   "source": [
    "def add_vectors(x1,x2):\n",
    "    y = np.zeros_like(x1)\n",
    "    for i in range(x1.shape[0]):\n",
    "        for j in range(x1.shape[1]):\n",
    "            y[i,j] = x1[i,j] + x2[i,j]\n",
    "    return y"
   ]
  },
  {
   "cell_type": "code",
   "execution_count": 93,
   "id": "53018eed-ba07-4502-8c83-7a3a1e62247b",
   "metadata": {
    "tags": []
   },
   "outputs": [
    {
     "data": {
      "text/plain": [
       "array([[ 0,  1,  2,  3,  4],\n",
       "       [ 5,  6,  7,  8,  9],\n",
       "       [10, 11, 12, 13, 14],\n",
       "       [15, 16, 17, 18, 19],\n",
       "       [20, 21, 22, 23, 24]])"
      ]
     },
     "execution_count": 93,
     "metadata": {},
     "output_type": "execute_result"
    }
   ],
   "source": [
    "x1 = np.arange(25).reshape(5,5)\n",
    "x1"
   ]
  },
  {
   "cell_type": "code",
   "execution_count": 94,
   "id": "e44aa5bb-125e-4a63-a2d7-5c59a6cfb84a",
   "metadata": {
    "tags": []
   },
   "outputs": [
    {
     "data": {
      "text/plain": [
       "array([[25, 26, 27, 28, 29],\n",
       "       [30, 31, 32, 33, 34],\n",
       "       [35, 36, 37, 38, 39],\n",
       "       [40, 41, 42, 43, 44],\n",
       "       [45, 46, 47, 48, 49]])"
      ]
     },
     "execution_count": 94,
     "metadata": {},
     "output_type": "execute_result"
    }
   ],
   "source": [
    "x2 = np.arange(25,50).reshape(5,5)\n",
    "x2"
   ]
  },
  {
   "cell_type": "code",
   "execution_count": 95,
   "id": "ae362cc3-1964-48dc-b52e-af66833ebe97",
   "metadata": {
    "tags": []
   },
   "outputs": [
    {
     "data": {
      "text/plain": [
       "array([[25, 27, 29, 31, 33],\n",
       "       [35, 37, 39, 41, 43],\n",
       "       [45, 47, 49, 51, 53],\n",
       "       [55, 57, 59, 61, 63],\n",
       "       [65, 67, 69, 71, 73]])"
      ]
     },
     "execution_count": 95,
     "metadata": {},
     "output_type": "execute_result"
    }
   ],
   "source": [
    "add_vectors(x1,x2)"
   ]
  },
  {
   "cell_type": "code",
   "execution_count": 52,
   "id": "530acfb4-9057-4e2d-b044-47264bcad817",
   "metadata": {
    "tags": []
   },
   "outputs": [
    {
     "ename": "AttributeError",
     "evalue": "'list' object has no attribute 'shape'",
     "output_type": "error",
     "traceback": [
      "\u001b[0;31m---------------------------------------------------------------------------\u001b[0m",
      "\u001b[0;31mAttributeError\u001b[0m                            Traceback (most recent call last)",
      "Cell \u001b[0;32mIn[52], line 2\u001b[0m\n\u001b[1;32m      1\u001b[0m x3 \u001b[38;5;241m=\u001b[39m \u001b[38;5;28mlist\u001b[39m(x2)\n\u001b[0;32m----> 2\u001b[0m \u001b[43madd_vectors\u001b[49m\u001b[43m(\u001b[49m\u001b[43mx1\u001b[49m\u001b[43m,\u001b[49m\u001b[43mx3\u001b[49m\u001b[43m)\u001b[49m\n",
      "Cell \u001b[0;32mIn[33], line 2\u001b[0m, in \u001b[0;36madd_vectors\u001b[0;34m(x1, x2)\u001b[0m\n\u001b[1;32m      1\u001b[0m \u001b[38;5;28;01mdef\u001b[39;00m \u001b[38;5;21madd_vectors\u001b[39m(x1,x2):\n\u001b[0;32m----> 2\u001b[0m     \u001b[38;5;28;01massert\u001b[39;00m x1\u001b[38;5;241m.\u001b[39mshape[\u001b[38;5;241m0\u001b[39m]\u001b[38;5;241m==\u001b[39m\u001b[43mx2\u001b[49m\u001b[38;5;241;43m.\u001b[39;49m\u001b[43mshape\u001b[49m[\u001b[38;5;241m0\u001b[39m]\n\u001b[1;32m      3\u001b[0m     y \u001b[38;5;241m=\u001b[39m np\u001b[38;5;241m.\u001b[39mzeros_like(x1)\n\u001b[1;32m      4\u001b[0m     \u001b[38;5;28;01mfor\u001b[39;00m i \u001b[38;5;129;01min\u001b[39;00m \u001b[38;5;28mrange\u001b[39m(x1\u001b[38;5;241m.\u001b[39mshape[\u001b[38;5;241m0\u001b[39m]):\n",
      "\u001b[0;31mAttributeError\u001b[0m: 'list' object has no attribute 'shape'"
     ]
    }
   ],
   "source": [
    "x3 = list(x2)\n",
    "add_vectors(x1,x3)"
   ]
  },
  {
   "cell_type": "code",
   "execution_count": 39,
   "id": "da0a68ca-17bc-4db7-8b00-d2f870448602",
   "metadata": {
    "tags": []
   },
   "outputs": [],
   "source": [
    "def add_vectors_mypy(x1:np.typing.NDArray,x2:np.typing.NDArray)->np.typing.NDArray:\n",
    "    y = np.zeros_like(x1)\n",
    "    for i in range(x1.shape[0]):\n",
    "        for j in range(x1.shape[1]):\n",
    "            y[i,j] = x1[i,j] + x2[i,j]\n",
    "    return y"
   ]
  },
  {
   "cell_type": "code",
   "execution_count": 53,
   "id": "007d76e5-ef43-4ec4-a319-4ee2bc78eb5f",
   "metadata": {
    "tags": []
   },
   "outputs": [
    {
     "data": {
      "text/plain": [
       "array([[25, 27, 29, 31, 33],\n",
       "       [35, 37, 39, 41, 43],\n",
       "       [45, 47, 49, 51, 53],\n",
       "       [55, 57, 59, 61, 63],\n",
       "       [65, 67, 69, 71, 73]])"
      ]
     },
     "execution_count": 53,
     "metadata": {},
     "output_type": "execute_result"
    }
   ],
   "source": [
    "add_vectors_mypy(x1,x2)"
   ]
  },
  {
   "cell_type": "code",
   "execution_count": 58,
   "id": "aa496c7a-f023-43d9-82ac-dc78dc20f137",
   "metadata": {
    "tags": []
   },
   "outputs": [
    {
     "name": "stderr",
     "output_type": "stream",
     "text": [
      "<cell>1: \u001b[1m\u001b[31merror:\u001b[m Argument 2 to \u001b[m\u001b[1m\"add_vectors_mypy\"\u001b[m has incompatible type \u001b[m\u001b[1m\"List[Any]\"\u001b[m; expected \u001b[m\u001b[1m\"ndarray[Any, dtype[Any]]\"\u001b[m  \u001b[m\u001b[33m[arg-type]\u001b[m\n"
     ]
    },
    {
     "ename": "AttributeError",
     "evalue": "'list' object has no attribute 'shape'",
     "output_type": "error",
     "traceback": [
      "\u001b[0;31m---------------------------------------------------------------------------\u001b[0m",
      "\u001b[0;31mAttributeError\u001b[0m                            Traceback (most recent call last)",
      "Cell \u001b[0;32mIn[58], line 1\u001b[0m\n\u001b[0;32m----> 1\u001b[0m \u001b[43madd_vectors_mypy\u001b[49m\u001b[43m(\u001b[49m\u001b[43mx1\u001b[49m\u001b[43m,\u001b[49m\u001b[43mx3\u001b[49m\u001b[43m)\u001b[49m\n",
      "Cell \u001b[0;32mIn[39], line 2\u001b[0m, in \u001b[0;36madd_vectors_mypy\u001b[0;34m(x1, x2)\u001b[0m\n\u001b[1;32m      1\u001b[0m \u001b[38;5;28;01mdef\u001b[39;00m \u001b[38;5;21madd_vectors_mypy\u001b[39m(x1:np\u001b[38;5;241m.\u001b[39mtyping\u001b[38;5;241m.\u001b[39mNDArray,x2:np\u001b[38;5;241m.\u001b[39mtyping\u001b[38;5;241m.\u001b[39mNDArray)\u001b[38;5;241m-\u001b[39m\u001b[38;5;241m>\u001b[39mnp\u001b[38;5;241m.\u001b[39mtyping\u001b[38;5;241m.\u001b[39mNDArray:\n\u001b[0;32m----> 2\u001b[0m     \u001b[38;5;28;01massert\u001b[39;00m x1\u001b[38;5;241m.\u001b[39mshape[\u001b[38;5;241m0\u001b[39m]\u001b[38;5;241m==\u001b[39m\u001b[43mx2\u001b[49m\u001b[38;5;241;43m.\u001b[39;49m\u001b[43mshape\u001b[49m[\u001b[38;5;241m0\u001b[39m]\n\u001b[1;32m      3\u001b[0m     \u001b[38;5;28;01massert\u001b[39;00m x1\u001b[38;5;241m.\u001b[39mshape[\u001b[38;5;241m1\u001b[39m]\u001b[38;5;241m==\u001b[39mx2\u001b[38;5;241m.\u001b[39mshape[\u001b[38;5;241m1\u001b[39m]\n\u001b[1;32m      4\u001b[0m     y \u001b[38;5;241m=\u001b[39m np\u001b[38;5;241m.\u001b[39mzeros_like(x1)\n",
      "\u001b[0;31mAttributeError\u001b[0m: 'list' object has no attribute 'shape'"
     ]
    }
   ],
   "source": [
    "add_vectors_mypy(x1,x3)"
   ]
  },
  {
   "cell_type": "code",
   "execution_count": 60,
   "id": "071db940-7bfa-4cfd-9ee6-b2908d0a39d4",
   "metadata": {
    "tags": []
   },
   "outputs": [],
   "source": [
    "%nb_mypy Off"
   ]
  },
  {
   "cell_type": "markdown",
   "id": "e6d899a9-9c0a-456a-b60f-8bf86583a405",
   "metadata": {
    "tags": []
   },
   "source": [
    "# CUDA Basics"
   ]
  },
  {
   "cell_type": "markdown",
   "id": "f1494a09-d0c5-439d-b907-be97a94d56cc",
   "metadata": {},
   "source": [
    "## Grids, Blocks, and Threads"
   ]
  },
  {
   "cell_type": "markdown",
   "id": "871e7c90-a259-42fd-8b2d-3d6514f372ff",
   "metadata": {},
   "source": [
    "https://cs.calvin.edu/courses/cs/374/CUDA/CUDA-Thread-Indexing-Cheatsheet.pdf\n",
    "\n",
    "https://en.wikipedia.org/wiki/Thread_block_%28CUDA_programming%29\n",
    "\n",
    "<div>\n",
    "<img src=\"./img/threads_blocks2.png\" width=\"500\"/>\n",
    "</div>"
   ]
  },
  {
   "cell_type": "markdown",
   "id": "ff9be5b5-4056-4152-86cb-bab09bb2e5ca",
   "metadata": {
    "tags": []
   },
   "source": [
    "## Intro to CuPy: CUDA/Python Interface"
   ]
  },
  {
   "cell_type": "code",
   "execution_count": null,
   "id": "273f8e22-2695-441d-9b42-d2f250606e98",
   "metadata": {},
   "outputs": [
    {
     "data": {
      "text/plain": [
       "array([[ 0.,  1.,  2.,  3.,  4.],\n",
       "       [ 5.,  6.,  7.,  8.,  9.],\n",
       "       [10., 11., 12., 13., 14.],\n",
       "       [15., 16., 17., 18., 19.],\n",
       "       [20., 21., 22., 23., 24.]], dtype=float32)"
      ]
     },
     "execution_count": 12,
     "metadata": {},
     "output_type": "execute_result"
    }
   ],
   "source": [
    "x1 = cp.arange(25,dtype=cp.float32).reshape(5,5)\n",
    "x1"
   ]
  },
  {
   "cell_type": "code",
   "execution_count": null,
   "id": "cf6efb3a-42a9-4cd8-b922-7b122dc78283",
   "metadata": {},
   "outputs": [
    {
     "data": {
      "text/plain": [
       "array([[25., 26., 27., 28., 29.],\n",
       "       [30., 31., 32., 33., 34.],\n",
       "       [35., 36., 37., 38., 39.],\n",
       "       [40., 41., 42., 43., 44.],\n",
       "       [45., 46., 47., 48., 49.]], dtype=float32)"
      ]
     },
     "execution_count": 13,
     "metadata": {},
     "output_type": "execute_result"
    }
   ],
   "source": [
    "x2 = cp.arange(25,50,dtype=cp.float32).reshape(5,5)\n",
    "x2"
   ]
  },
  {
   "cell_type": "code",
   "execution_count": null,
   "id": "4b4b9d3f-e6b1-4000-b774-d01075c57076",
   "metadata": {},
   "outputs": [
    {
     "data": {
      "text/plain": [
       "array([[25., 27., 29., 31., 33.],\n",
       "       [35., 37., 39., 41., 43.],\n",
       "       [45., 47., 49., 51., 53.],\n",
       "       [55., 57., 59., 61., 63.],\n",
       "       [65., 67., 69., 71., 73.]], dtype=float32)"
      ]
     },
     "execution_count": 14,
     "metadata": {},
     "output_type": "execute_result"
    }
   ],
   "source": [
    "y = x1+x2\n",
    "y"
   ]
  },
  {
   "cell_type": "code",
   "execution_count": null,
   "id": "43f84985-d9f4-4127-a431-360a28123c7d",
   "metadata": {},
   "outputs": [],
   "source": [
    "x3 = cp.arange(10000,dtype=cp.float32).reshape(100,100)\n",
    "y = x3@x3\n",
    "y"
   ]
  },
  {
   "cell_type": "markdown",
   "id": "dbf0fd12-9cb9-4189-b19f-8ab509428814",
   "metadata": {},
   "source": [
    "Alternatives to cupy\n",
    "- pycuda\n",
    "- tensorflow\n",
    "- pytorch\n",
    "- numba"
   ]
  },
  {
   "cell_type": "markdown",
   "id": "173ba4c5-32a5-41db-9c9c-85006b4f877b",
   "metadata": {
    "tags": []
   },
   "source": [
    "# CUDA Kernels: 1D Thread Grids"
   ]
  },
  {
   "cell_type": "code",
   "execution_count": 2,
   "id": "f2bf1130-27b7-4841-ad99-cbcf0116cd88",
   "metadata": {
    "tags": []
   },
   "outputs": [],
   "source": [
    "add_kernel = cp.RawKernel(r'''\n",
    "extern \"C\" __global__\n",
    "void cuda_add(const float* x1, const float* x2, float* y) {\n",
    "    int tid = blockDim.x * blockIdx.x + threadIdx.x;\n",
    "    y[tid] = x1[tid] + x2[tid];\n",
    "}\n",
    "''', 'cuda_add')"
   ]
  },
  {
   "cell_type": "code",
   "execution_count": 3,
   "id": "7429f6f4-1f80-4bc0-bbdf-4d401e5e4201",
   "metadata": {
    "tags": []
   },
   "outputs": [],
   "source": [
    "x1 = cp.arange(25,dtype=cp.float32).reshape(5,5)\n",
    "x2 = cp.arange(25,50,dtype=cp.float32).reshape(5,5)"
   ]
  },
  {
   "cell_type": "code",
   "execution_count": 21,
   "id": "d2157454-8a74-4d52-9cf2-9ce970175dc8",
   "metadata": {
    "tags": []
   },
   "outputs": [
    {
     "data": {
      "text/plain": [
       "array([[25.,  0.,  0.,  0.,  0.],\n",
       "       [ 0.,  0.,  0.,  0.,  0.],\n",
       "       [ 0.,  0.,  0.,  0.,  0.],\n",
       "       [ 0.,  0.,  0.,  0.,  0.],\n",
       "       [ 0.,  0.,  0.,  0.,  0.]], dtype=float32)"
      ]
     },
     "execution_count": 21,
     "metadata": {},
     "output_type": "execute_result"
    }
   ],
   "source": [
    "#%%timeit\n",
    "y = cp.zeros((5,5),dtype=cp.float32)\n",
    "add_kernel(\n",
    "    (1,), # grid shape (number of blocks in each dimension)\n",
    "    (1,), # block shape (number of threads in each dimension)\n",
    "    (x1,x2,y)\n",
    ")\n",
    "y"
   ]
  },
  {
   "cell_type": "code",
   "execution_count": 30,
   "id": "16fd6d26-923b-471b-8cc7-036b72f272ec",
   "metadata": {
    "tags": []
   },
   "outputs": [
    {
     "data": {
      "text/plain": [
       "array([[25., 27., 29., 31., 33.],\n",
       "       [35., 37., 39., 41., 43.],\n",
       "       [45., 47., 49., 51., 53.],\n",
       "       [55., 57., 59., 61., 63.],\n",
       "       [65., 67., 69., 71., 73.]], dtype=float32)"
      ]
     },
     "execution_count": 30,
     "metadata": {},
     "output_type": "execute_result"
    }
   ],
   "source": [
    "#%%timeit\n",
    "y = cp.zeros((5,5),dtype=cp.float32)\n",
    "add_kernel(\n",
    "    (5,), # grid shape (number of blocks in each dimension)\n",
    "    (1,), # block shape (number of threads in each dimension)\n",
    "    (x1,x2,y)\n",
    ")\n",
    "y"
   ]
  },
  {
   "cell_type": "code",
   "execution_count": 28,
   "id": "33c99698-d26d-4558-a7da-243178f25e63",
   "metadata": {
    "tags": []
   },
   "outputs": [
    {
     "data": {
      "text/plain": [
       "array([[25., 27., 29., 31., 33.],\n",
       "       [35., 37., 39., 41., 43.],\n",
       "       [ 0.,  0.,  0.,  0.,  0.],\n",
       "       [ 0.,  0.,  0.,  0.,  0.],\n",
       "       [ 0.,  0.,  0.,  0.,  0.]], dtype=float32)"
      ]
     },
     "execution_count": 28,
     "metadata": {},
     "output_type": "execute_result"
    }
   ],
   "source": [
    "#%%timeit\n",
    "y = cp.zeros((5,5),dtype=cp.float32)\n",
    "add_kernel(\n",
    "    (1,), # grid shape (number of blocks in each dimension)\n",
    "    (5,), # block shape (number of threads in each dimension)\n",
    "    (x1,x2,y)\n",
    ")\n",
    "y"
   ]
  },
  {
   "cell_type": "code",
   "execution_count": 101,
   "id": "456cf940-98be-44b9-ba3b-1d46411440bd",
   "metadata": {
    "tags": []
   },
   "outputs": [
    {
     "data": {
      "text/plain": [
       "array([[25., 27., 29., 31., 33.],\n",
       "       [35., 37., 39., 41., 43.],\n",
       "       [45., 47., 49., 51., 53.],\n",
       "       [55., 57., 59., 61., 63.],\n",
       "       [65., 67., 69., 71., 73.]], dtype=float32)"
      ]
     },
     "execution_count": 101,
     "metadata": {},
     "output_type": "execute_result"
    }
   ],
   "source": [
    "#%%timeit\n",
    "y = cp.zeros((5,5),dtype=cp.float32)\n",
    "add_kernel(\n",
    "    (25,), # grid shape (number of blocks in each dimension)\n",
    "    (1,), # block shape (number of threads in each dimension)\n",
    "    (x1,x2,y)\n",
    ")\n",
    "y"
   ]
  },
  {
   "cell_type": "code",
   "execution_count": 102,
   "id": "39fdef4f-881f-4750-a27b-5ea22846016d",
   "metadata": {
    "tags": []
   },
   "outputs": [
    {
     "data": {
      "text/plain": [
       "array([[25., 27., 29., 31., 33.],\n",
       "       [35., 37., 39., 41., 43.],\n",
       "       [45., 47., 49., 51., 53.],\n",
       "       [55., 57., 59., 61., 63.],\n",
       "       [65., 67., 69., 71., 73.]], dtype=float32)"
      ]
     },
     "execution_count": 102,
     "metadata": {},
     "output_type": "execute_result"
    }
   ],
   "source": [
    "#%%timeit\n",
    "y = cp.zeros((5,5),dtype=cp.float32)\n",
    "add_kernel(\n",
    "    (1,), # grid shape (number of blocks in each dimension)\n",
    "    (25,), # block shape (number of threads in each dimension)\n",
    "    (x1,x2,y)\n",
    ")\n",
    "y"
   ]
  },
  {
   "cell_type": "markdown",
   "id": "3e6a83f5-bff5-491d-bd28-c81d68d089f8",
   "metadata": {},
   "source": [
    "# CUDA Kernels: 2D Thread Grids"
   ]
  },
  {
   "cell_type": "markdown",
   "id": "00a97ddd-8406-49c5-a286-09081e02fa35",
   "metadata": {},
   "source": [
    "## A Quick Diversion: Flattened Arrays"
   ]
  },
  {
   "cell_type": "code",
   "execution_count": 36,
   "id": "1d4bf967-902c-43a3-a95c-d15e7f88529e",
   "metadata": {
    "tags": []
   },
   "outputs": [
    {
     "data": {
      "text/plain": [
       "array([[ 0,  1,  2,  3,  4],\n",
       "       [ 5,  6,  7,  8,  9],\n",
       "       [10, 11, 12, 13, 14],\n",
       "       [15, 16, 17, 18, 19],\n",
       "       [20, 21, 22, 23, 24]])"
      ]
     },
     "execution_count": 36,
     "metadata": {},
     "output_type": "execute_result"
    }
   ],
   "source": [
    "z1 = np.arange(25).reshape(5,5)\n",
    "z1"
   ]
  },
  {
   "cell_type": "code",
   "execution_count": 37,
   "id": "374f0001-a57d-454d-afec-a8b7cc422b47",
   "metadata": {
    "tags": []
   },
   "outputs": [
    {
     "data": {
      "text/plain": [
       "array([ 0,  1,  2,  3,  4,  5,  6,  7,  8,  9, 10, 11, 12, 13, 14, 15, 16,\n",
       "       17, 18, 19, 20, 21, 22, 23, 24])"
      ]
     },
     "execution_count": 37,
     "metadata": {},
     "output_type": "execute_result"
    }
   ],
   "source": [
    "z1_flat = z1.ravel()\n",
    "z1_flat"
   ]
  },
  {
   "cell_type": "code",
   "execution_count": 40,
   "id": "01a0feb7-0add-46ba-9bee-ec50802f91de",
   "metadata": {
    "tags": []
   },
   "outputs": [
    {
     "data": {
      "text/plain": [
       "13"
      ]
     },
     "execution_count": 40,
     "metadata": {},
     "output_type": "execute_result"
    }
   ],
   "source": [
    "i = 2\n",
    "j = 3\n",
    "z1[i,j]"
   ]
  },
  {
   "cell_type": "code",
   "execution_count": 42,
   "id": "63dd7c05-02fb-49e7-938e-9bd968565584",
   "metadata": {
    "tags": []
   },
   "outputs": [
    {
     "data": {
      "text/plain": [
       "13"
      ]
     },
     "execution_count": 42,
     "metadata": {},
     "output_type": "execute_result"
    }
   ],
   "source": [
    "N = z1.shape[0]\n",
    "k = i*N+j\n",
    "z1_flat[k]"
   ]
  },
  {
   "cell_type": "markdown",
   "id": "4d5c133f-911c-4813-9e63-1f0ae957918a",
   "metadata": {},
   "source": [
    "## Back to CUDA"
   ]
  },
  {
   "cell_type": "code",
   "execution_count": 4,
   "id": "d10e947e-ab95-4118-915f-82059a0110dc",
   "metadata": {
    "tags": []
   },
   "outputs": [],
   "source": [
    "add_kernel_2D = cp.RawKernel(r'''\n",
    "extern \"C\" __global__\n",
    "void cuda_add_2D(const float* x1, const float* x2, float* y, int N) {\n",
    "    int i = blockDim.y * blockIdx.y + threadIdx.y;\n",
    "    int j = blockDim.x * blockIdx.x + threadIdx.x;\n",
    "    \n",
    "    int k = i*N+j;\n",
    "    y[k] = x1[k] + x2[k];\n",
    "    \n",
    "}\n",
    "''', 'cuda_add_2D')"
   ]
  },
  {
   "cell_type": "code",
   "execution_count": 16,
   "id": "d582d582-0bcd-4c65-bead-e172dc73eb98",
   "metadata": {
    "tags": []
   },
   "outputs": [
    {
     "data": {
      "text/plain": [
       "array([[25.,  0.,  0.,  0.,  0.],\n",
       "       [ 0.,  0.,  0.,  0.,  0.],\n",
       "       [ 0.,  0.,  0.,  0.,  0.],\n",
       "       [ 0.,  0.,  0.,  0.,  0.],\n",
       "       [ 0.,  0.,  0.,  0.,  0.]], dtype=float32)"
      ]
     },
     "execution_count": 16,
     "metadata": {},
     "output_type": "execute_result"
    }
   ],
   "source": [
    "y = cp.zeros((5,5),dtype=cp.float32)\n",
    "add_kernel_2D(\n",
    "    (1,1), # grid shape (number of blocks in each dimension)\n",
    "    (1,1), # block shape (number of threads in each dimension)\n",
    "    (x1,x2,y,x1.shape[0])\n",
    ")\n",
    "y"
   ]
  },
  {
   "cell_type": "code",
   "execution_count": 43,
   "id": "607a2ba2-1b41-4aaa-97b3-79b7d1f6f4ef",
   "metadata": {
    "tags": []
   },
   "outputs": [
    {
     "data": {
      "text/plain": [
       "array([[25., 27., 29., 31., 33.],\n",
       "       [35., 37., 39., 41., 43.],\n",
       "       [45., 47., 49., 51., 53.],\n",
       "       [55., 57., 59., 61., 63.],\n",
       "       [ 0.,  0.,  0.,  0.,  0.]], dtype=float32)"
      ]
     },
     "execution_count": 43,
     "metadata": {},
     "output_type": "execute_result"
    }
   ],
   "source": [
    "y = cp.zeros((5,5),dtype=cp.float32)\n",
    "add_kernel_2D(\n",
    "    (1,1), # grid shape (number of blocks in each dimension)\n",
    "    (5,5), # block shape (number of threads in each dimension)\n",
    "    (x1,x2,y,x1.shape[0])\n",
    ")\n",
    "y"
   ]
  },
  {
   "cell_type": "code",
   "execution_count": 44,
   "id": "a4ee4785-40f6-486f-b106-254dec5018e1",
   "metadata": {
    "tags": []
   },
   "outputs": [
    {
     "data": {
      "text/plain": [
       "array([[25., 27., 29., 31., 33.],\n",
       "       [35., 37., 39., 41., 43.],\n",
       "       [45., 47., 49., 51., 53.],\n",
       "       [55., 57., 59., 61., 63.],\n",
       "       [65., 67., 69., 71., 73.]], dtype=float32)"
      ]
     },
     "execution_count": 44,
     "metadata": {},
     "output_type": "execute_result"
    }
   ],
   "source": [
    "y = cp.zeros((5,5),dtype=cp.float32)\n",
    "add_kernel_2D(\n",
    "    (5,5), # grid shape (number of blocks in each dimension)\n",
    "    (1,1), # block shape (number of threads in each dimension)\n",
    "    (x1,x2,y,x1.shape[0])\n",
    ")\n",
    "y"
   ]
  },
  {
   "cell_type": "markdown",
   "id": "768860ab-263d-45b9-8da7-63802b06417d",
   "metadata": {},
   "source": [
    "# CUDA Kernels: Matrix Multiplication"
   ]
  },
  {
   "cell_type": "code",
   "execution_count": 52,
   "id": "6b563b62-d1e3-4232-b258-aa622a7a7ada",
   "metadata": {
    "tags": []
   },
   "outputs": [],
   "source": [
    "mult_kernel = cp.RawKernel(r'''\n",
    "extern \"C\" __global__\n",
    "void cuda_mult(const float* x1, const float* x2, float* y, int N) {\n",
    "    int ROW = blockDim.y * blockIdx.y + threadIdx.y;\n",
    "    int COL = blockDim.x * blockIdx.x + threadIdx.x;\n",
    "    \n",
    "    float tmpSum = 0;\n",
    "\n",
    "    if (ROW < N && COL < N) {\n",
    "        // each thread computes one element of the block sub-matrix\n",
    "        for (int i = 0; i < N; i++) {\n",
    "            tmpSum += x1[ROW * N + i] * x2[i * N + COL];\n",
    "        }\n",
    "    }\n",
    "    y[ROW * N + COL] = tmpSum;\n",
    "    \n",
    "}\n",
    "''', 'cuda_mult')"
   ]
  },
  {
   "cell_type": "code",
   "execution_count": 55,
   "id": "667e275d-210b-499e-93c1-45c6e2120db9",
   "metadata": {
    "tags": []
   },
   "outputs": [],
   "source": [
    "x1 = cp.arange(25,dtype=cp.float32).reshape(5,5)\n",
    "x2 = cp.arange(25,dtype=cp.float32).reshape(5,5)\n",
    "y = cp.zeros((5,5),dtype=cp.float32)"
   ]
  },
  {
   "cell_type": "code",
   "execution_count": 56,
   "id": "1c10f44d-cc72-4fdb-ba6c-50c611e228ec",
   "metadata": {
    "tags": []
   },
   "outputs": [
    {
     "name": "stdout",
     "output_type": "stream",
     "text": [
      "5.44 µs ± 31.3 ns per loop (mean ± std. dev. of 7 runs, 100,000 loops each)\n"
     ]
    }
   ],
   "source": [
    "#%%timeit\n",
    "mult_kernel(\n",
    "    (1,1), # grid shape (number of blocks in each dimension)\n",
    "    (5,5), # block shape (number of threads in each dimension)\n",
    "    (x1,x2,y,x1.shape[0])\n",
    ")\n",
    "y"
   ]
  },
  {
   "cell_type": "markdown",
   "id": "f7eeb709-fc27-44c0-8706-ef4873a51ec7",
   "metadata": {},
   "source": [
    "## Let's try to push this..."
   ]
  },
  {
   "cell_type": "code",
   "execution_count": 74,
   "id": "19bdf0a5-fd68-45c6-b277-2a2a106b8cec",
   "metadata": {
    "tags": []
   },
   "outputs": [],
   "source": [
    "x1 = cp.arange(1000000,dtype=cp.float32).reshape(1000,1000)\n",
    "x2 = cp.arange(1000000,dtype=cp.float32).reshape(1000,1000)\n",
    "y = cp.zeros((1000,1000),dtype=cp.float32)"
   ]
  },
  {
   "cell_type": "code",
   "execution_count": null,
   "id": "9b737b4d-44eb-423d-a574-51b798739b03",
   "metadata": {
    "tags": []
   },
   "outputs": [],
   "source": [
    "%%timeit\n",
    "mult_kernel(\n",
    "    (100,100), # grid shape (number of blocks in each dimension)\n",
    "    (100,100), # block shape (number of threads in each dimension)\n",
    "    (x1,x2,y,x1.shape[0])\n",
    ")\n",
    "y"
   ]
  },
  {
   "cell_type": "code",
   "execution_count": null,
   "id": "bc5cf115-411b-4238-9967-d7b690860bb5",
   "metadata": {},
   "outputs": [],
   "source": [
    "add_kernel = cp.RawKernel(r'''\n",
    "extern \"C\" __global__\n",
    "void cuda_add(const float* x1, const float* x2, float* y) {\n",
    "    int row = blockDim.y * blockIdx.y + threadIdx.x;\n",
    "    y[tid] = x1[tid] + x2[tid];\n",
    "}\n",
    "''', 'cuda_add')"
   ]
  }
 ],
 "metadata": {
  "kernelspec": {
   "display_name": "2308_codecamp_tbm",
   "language": "python",
   "name": "2308_codecamp_tbm"
  },
  "language_info": {
   "codemirror_mode": {
    "name": "ipython",
    "version": 3
   },
   "file_extension": ".py",
   "mimetype": "text/x-python",
   "name": "python",
   "nbconvert_exporter": "python",
   "pygments_lexer": "ipython3",
   "version": "3.8.17"
  }
 },
 "nbformat": 4,
 "nbformat_minor": 5
}
